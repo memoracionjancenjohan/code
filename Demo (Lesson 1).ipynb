{
 "cells": [
  {
   "cell_type": "code",
   "execution_count": 12,
   "id": "9007dd1c",
   "metadata": {},
   "outputs": [
    {
     "data": {
      "text/plain": [
       "1"
      ]
     },
     "execution_count": 12,
     "metadata": {},
     "output_type": "execute_result"
    }
   ],
   "source": [
    "#DEMO 1\n",
    "def squaresum(n):\n",
    "    sm = 0\n",
    "    for i in range(1, n+1):\n",
    "        sm = sm+(1**2)\n",
    "        return sm\n",
    "        \n",
    "squaresum(5)"
   ]
  },
  {
   "cell_type": "code",
   "execution_count": 17,
   "id": "e6d15583",
   "metadata": {},
   "outputs": [
    {
     "data": {
      "text/plain": [
       "121215.8437"
      ]
     },
     "execution_count": 17,
     "metadata": {},
     "output_type": "execute_result"
    }
   ],
   "source": [
    "#DEMO2\n",
    "from math import *\n",
    "def polysum(n, s):\n",
    "    perimeter = n*s\n",
    "    area = (0.25*n*s**2)/tan(pi/n)\n",
    "    op = area * perimeter**2\n",
    "    return round(op, 4)\n",
    "\n",
    "polysum(6,6)"
   ]
  },
  {
   "cell_type": "code",
   "execution_count": 16,
   "id": "5bbede13",
   "metadata": {},
   "outputs": [
    {
     "name": "stdout",
     "output_type": "stream",
     "text": [
      "{1: 1, 2: 4, 3: 9, 4: 16, 5: 25, 6: 36, 7: 49, 8: 64, 9: 81, 10: 100, 11: 121, 12: 144, 13: 169, 14: 196, 15: 225}\n"
     ]
    }
   ],
   "source": [
    "#DEMO3\n",
    "d = {}\n",
    "for x in range(1,16):\n",
    "    d[x] = x ** 2\n",
    "print(d)"
   ]
  }
 ],
 "metadata": {
  "kernelspec": {
   "display_name": "Python 3 (ipykernel)",
   "language": "python",
   "name": "python3"
  },
  "language_info": {
   "codemirror_mode": {
    "name": "ipython",
    "version": 3
   },
   "file_extension": ".py",
   "mimetype": "text/x-python",
   "name": "python",
   "nbconvert_exporter": "python",
   "pygments_lexer": "ipython3",
   "version": "3.11.4"
  }
 },
 "nbformat": 4,
 "nbformat_minor": 5
}
