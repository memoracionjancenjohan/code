{
 "cells": [
  {
   "cell_type": "markdown",
   "id": "cb6def30",
   "metadata": {},
   "source": [
    "Condition Statements"
   ]
  },
  {
   "cell_type": "code",
   "execution_count": 1,
   "id": "7176b9b0",
   "metadata": {},
   "outputs": [
    {
     "name": "stdout",
     "output_type": "stream",
     "text": [
      "b is greater than a\n"
     ]
    }
   ],
   "source": [
    "#Example\n",
    "a = 33; b = 200\n",
    "if b > a:\n",
    "    print(\"b is greater than a\")"
   ]
  },
  {
   "cell_type": "code",
   "execution_count": 2,
   "id": "9c6f9e31",
   "metadata": {},
   "outputs": [],
   "source": [
    "#Another Syntax:\n",
    "\n",
    "#if <expr>: <statement>"
   ]
  },
  {
   "cell_type": "code",
   "execution_count": 3,
   "id": "dbaaf568",
   "metadata": {},
   "outputs": [
    {
     "name": "stdout",
     "output_type": "stream",
     "text": [
      "b is greater than a\n"
     ]
    }
   ],
   "source": [
    "#Example\n",
    "a = 33; b = 200\n",
    "if b > a: print(\"b is greater than a\")"
   ]
  },
  {
   "cell_type": "code",
   "execution_count": 4,
   "id": "682aa269",
   "metadata": {},
   "outputs": [
    {
     "name": "stdout",
     "output_type": "stream",
     "text": [
      "I'm sorry\n",
      "You failed\n"
     ]
    }
   ],
   "source": [
    "#Example\n",
    "grade = 59.9\n",
    "if grade < 60:\n",
    "    print(\"I'm sorry\")\n",
    "    print(\"You failed\")"
   ]
  },
  {
   "cell_type": "code",
   "execution_count": 5,
   "id": "bd8e491b",
   "metadata": {},
   "outputs": [],
   "source": [
    "#Another Syntax:\n",
    "\n",
    "#if <expr>: <statement1>; <statement2> .... <statement(n)>"
   ]
  },
  {
   "cell_type": "code",
   "execution_count": 6,
   "id": "f1ca01ec",
   "metadata": {},
   "outputs": [
    {
     "name": "stdout",
     "output_type": "stream",
     "text": [
      "I'm sorry\n",
      "You failed\n"
     ]
    }
   ],
   "source": [
    "#Example\n",
    "grade = 59.9\n",
    "if grade < 60: print(\"I'm sorry\"); print(\"You failed\")"
   ]
  },
  {
   "cell_type": "markdown",
   "id": "0ff2d92f",
   "metadata": {},
   "source": [
    "Elif Statement"
   ]
  },
  {
   "cell_type": "code",
   "execution_count": 7,
   "id": "99c7569d",
   "metadata": {},
   "outputs": [],
   "source": [
    "#Syntax\n",
    "\n",
    "#if <expr>:\n",
    "    #<statement1>\n",
    "#elif <expr>:\n",
    "    #<statement2>\n",
    "#elif <expr>:\n",
    "    #<statement3>\n",
    "#else:\n",
    "    #<statement4>"
   ]
  },
  {
   "cell_type": "code",
   "execution_count": 8,
   "id": "e43575de",
   "metadata": {},
   "outputs": [
    {
     "name": "stdout",
     "output_type": "stream",
     "text": [
      "b is greater than a\n"
     ]
    }
   ],
   "source": [
    "#Example\n",
    "a = 25; b = 100\n",
    "if b > a:\n",
    "    print(\"b is greater than a\")\n",
    "elif b == a:\n",
    "    print(\"b is equal to a\")\n",
    "else:\n",
    "    print(\"b is less than a\")"
   ]
  },
  {
   "cell_type": "markdown",
   "id": "44df2184",
   "metadata": {},
   "source": [
    "Pass Statement"
   ]
  },
  {
   "cell_type": "code",
   "execution_count": 9,
   "id": "03e54b1b",
   "metadata": {},
   "outputs": [],
   "source": [
    "#Syntax"
   ]
  },
  {
   "cell_type": "code",
   "execution_count": 10,
   "id": "7a6f7232",
   "metadata": {},
   "outputs": [
    {
     "name": "stdout",
     "output_type": "stream",
     "text": [
      "b\n",
      "a\n",
      "n\n",
      "a\n",
      "n\n",
      "a\n"
     ]
    }
   ],
   "source": [
    "for x in \"banana\": #lists each letter in the string due to looping\n",
    "    print(x)"
   ]
  },
  {
   "cell_type": "markdown",
   "id": "3258361a",
   "metadata": {},
   "source": [
    "Break Statement - stops loop"
   ]
  },
  {
   "cell_type": "code",
   "execution_count": 11,
   "id": "0e10d9a1",
   "metadata": {},
   "outputs": [
    {
     "name": "stdout",
     "output_type": "stream",
     "text": [
      "apple\n",
      "banana\n"
     ]
    }
   ],
   "source": [
    "fruits = [\"apple\", \"banana\", \"cherry\", \"mango\"]\n",
    "for x in fruits:\n",
    "    print(x)\n",
    "    if x == \"banana\":\n",
    "        break"
   ]
  },
  {
   "cell_type": "markdown",
   "id": "be858a99",
   "metadata": {},
   "source": [
    "Continue Statement"
   ]
  },
  {
   "cell_type": "code",
   "execution_count": 14,
   "id": "0e5b8e6d",
   "metadata": {},
   "outputs": [
    {
     "name": "stdout",
     "output_type": "stream",
     "text": [
      "apple\n",
      "cherry\n",
      "mango\n"
     ]
    }
   ],
   "source": [
    "fruits = [\"apple\", \"banana\", \"cherry\", \"mango\"]\n",
    "for x in fruits:\n",
    "    if x == \"banana\":\n",
    "        continue\n",
    "    print(x)"
   ]
  },
  {
   "cell_type": "markdown",
   "id": "85eceaae",
   "metadata": {},
   "source": [
    "For-While"
   ]
  },
  {
   "cell_type": "code",
   "execution_count": null,
   "id": "eeb5f113",
   "metadata": {},
   "outputs": [],
   "source": []
  },
  {
   "cell_type": "markdown",
   "id": "9a6eb350",
   "metadata": {},
   "source": [
    "Functions(Built-in)"
   ]
  },
  {
   "cell_type": "code",
   "execution_count": 17,
   "id": "463b5bed",
   "metadata": {},
   "outputs": [
    {
     "data": {
      "text/plain": [
       "59"
      ]
     },
     "execution_count": 17,
     "metadata": {},
     "output_type": "execute_result"
    }
   ],
   "source": [
    "from math import * #* - all\n",
    "x = tan(pi/4)\n",
    "y = round(59.0)\n",
    "y"
   ]
  },
  {
   "cell_type": "markdown",
   "id": "ca7a4c38",
   "metadata": {},
   "source": [
    "Functions(Custom) - user-defined"
   ]
  },
  {
   "cell_type": "code",
   "execution_count": 15,
   "id": "4eeb3884",
   "metadata": {},
   "outputs": [
    {
     "name": "stdout",
     "output_type": "stream",
     "text": [
      "Hello Nikko\n"
     ]
    }
   ],
   "source": [
    "def my_function(name):\n",
    "    print(\"Hello \" + name)\n",
    "    \n",
    "my_function(\"Nikko\")"
   ]
  },
  {
   "cell_type": "code",
   "execution_count": 16,
   "id": "2c10d10d",
   "metadata": {},
   "outputs": [
    {
     "data": {
      "text/plain": [
       "45"
      ]
     },
     "execution_count": 16,
     "metadata": {},
     "output_type": "execute_result"
    }
   ],
   "source": [
    "def my_function(x):\n",
    "    y = 5 * x\n",
    "    return y\n",
    "\n",
    "my_function(9)"
   ]
  },
  {
   "cell_type": "code",
   "execution_count": 21,
   "id": "a39f55b1",
   "metadata": {},
   "outputs": [
    {
     "name": "stdout",
     "output_type": "stream",
     "text": [
      "apple\n",
      "banana\n"
     ]
    }
   ],
   "source": [
    "fruits = [\"apple\", \"banana\"]\n",
    "def my_function(food):\n",
    "    for x in food:\n",
    "        print(x)\n",
    "        \n",
    "my_function(fruits)\n",
    "#fruits == food"
   ]
  },
  {
   "cell_type": "code",
   "execution_count": null,
   "id": "15c6c0e3",
   "metadata": {},
   "outputs": [],
   "source": []
  },
  {
   "cell_type": "code",
   "execution_count": null,
   "id": "3aca022c",
   "metadata": {},
   "outputs": [],
   "source": []
  },
  {
   "cell_type": "code",
   "execution_count": null,
   "id": "6a71edc2",
   "metadata": {},
   "outputs": [],
   "source": []
  },
  {
   "cell_type": "code",
   "execution_count": null,
   "id": "61792385",
   "metadata": {},
   "outputs": [],
   "source": []
  },
  {
   "cell_type": "code",
   "execution_count": null,
   "id": "87410bca",
   "metadata": {},
   "outputs": [],
   "source": []
  }
 ],
 "metadata": {
  "kernelspec": {
   "display_name": "Python 3 (ipykernel)",
   "language": "python",
   "name": "python3"
  },
  "language_info": {
   "codemirror_mode": {
    "name": "ipython",
    "version": 3
   },
   "file_extension": ".py",
   "mimetype": "text/x-python",
   "name": "python",
   "nbconvert_exporter": "python",
   "pygments_lexer": "ipython3",
   "version": "3.11.4"
  }
 },
 "nbformat": 4,
 "nbformat_minor": 5
}
